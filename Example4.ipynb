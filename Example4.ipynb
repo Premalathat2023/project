{
 "cells": [
  {
   "cell_type": "code",
   "execution_count": 2,
   "id": "37dba83d",
   "metadata": {},
   "outputs": [
    {
     "name": "stdout",
     "output_type": "stream",
     "text": [
      "Collecting yfinance\n",
      "  Downloading yfinance-0.2.31-py2.py3-none-any.whl (65 kB)\n",
      "     -------------------------------------- 65.6/65.6 kB 588.4 kB/s eta 0:00:00\n",
      "Requirement already satisfied: beautifulsoup4>=4.11.1 in c:\\users\\dell\\anaconda3\\lib\\site-packages (from yfinance) (4.11.1)\n",
      "Requirement already satisfied: appdirs>=1.4.4 in c:\\users\\dell\\anaconda3\\lib\\site-packages (from yfinance) (1.4.4)\n",
      "Collecting frozendict>=2.3.4\n",
      "  Downloading frozendict-2.3.8-cp310-cp310-win_amd64.whl (35 kB)\n",
      "Collecting html5lib>=1.1\n",
      "  Downloading html5lib-1.1-py2.py3-none-any.whl (112 kB)\n",
      "     ------------------------------------ 112.2/112.2 kB 435.6 kB/s eta 0:00:00\n",
      "Requirement already satisfied: numpy>=1.16.5 in c:\\users\\dell\\anaconda3\\lib\\site-packages (from yfinance) (1.23.5)\n",
      "Collecting peewee>=3.16.2\n",
      "  Downloading peewee-3.16.3.tar.gz (928 kB)\n",
      "     -------------------------------------- 928.0/928.0 kB 1.3 MB/s eta 0:00:00\n",
      "  Installing build dependencies: started\n",
      "  Installing build dependencies: finished with status 'done'\n",
      "  Getting requirements to build wheel: started\n",
      "  Getting requirements to build wheel: finished with status 'done'\n",
      "  Preparing metadata (pyproject.toml): started\n",
      "  Preparing metadata (pyproject.toml): finished with status 'done'\n",
      "Collecting requests>=2.31\n",
      "  Downloading requests-2.31.0-py3-none-any.whl (62 kB)\n",
      "     ---------------------------------------- 62.6/62.6 kB 1.6 MB/s eta 0:00:00\n",
      "Requirement already satisfied: pytz>=2022.5 in c:\\users\\dell\\anaconda3\\lib\\site-packages (from yfinance) (2022.7)\n",
      "Requirement already satisfied: lxml>=4.9.1 in c:\\users\\dell\\anaconda3\\lib\\site-packages (from yfinance) (4.9.1)\n",
      "Requirement already satisfied: pandas>=1.3.0 in c:\\users\\dell\\anaconda3\\lib\\site-packages (from yfinance) (1.5.3)\n",
      "Collecting multitasking>=0.0.7\n",
      "  Downloading multitasking-0.0.11-py3-none-any.whl (8.5 kB)\n",
      "Requirement already satisfied: soupsieve>1.2 in c:\\users\\dell\\anaconda3\\lib\\site-packages (from beautifulsoup4>=4.11.1->yfinance) (2.3.2.post1)\n",
      "Requirement already satisfied: six>=1.9 in c:\\users\\dell\\anaconda3\\lib\\site-packages (from html5lib>=1.1->yfinance) (1.16.0)\n",
      "Requirement already satisfied: webencodings in c:\\users\\dell\\anaconda3\\lib\\site-packages (from html5lib>=1.1->yfinance) (0.5.1)\n",
      "Requirement already satisfied: python-dateutil>=2.8.1 in c:\\users\\dell\\anaconda3\\lib\\site-packages (from pandas>=1.3.0->yfinance) (2.8.2)\n",
      "Requirement already satisfied: charset-normalizer<4,>=2 in c:\\users\\dell\\anaconda3\\lib\\site-packages (from requests>=2.31->yfinance) (2.0.4)\n",
      "Requirement already satisfied: certifi>=2017.4.17 in c:\\users\\dell\\anaconda3\\lib\\site-packages (from requests>=2.31->yfinance) (2023.5.7)\n",
      "Requirement already satisfied: idna<4,>=2.5 in c:\\users\\dell\\anaconda3\\lib\\site-packages (from requests>=2.31->yfinance) (3.4)\n",
      "Requirement already satisfied: urllib3<3,>=1.21.1 in c:\\users\\dell\\anaconda3\\lib\\site-packages (from requests>=2.31->yfinance) (1.26.14)\n",
      "Building wheels for collected packages: peewee\n",
      "  Building wheel for peewee (pyproject.toml): started\n",
      "  Building wheel for peewee (pyproject.toml): finished with status 'done'\n",
      "  Created wheel for peewee: filename=peewee-3.16.3-py3-none-any.whl size=135547 sha256=55b718abc5896d1e0a342884b0e2344dcfbebe66358bbee366d0d3ac7c09c01e\n",
      "  Stored in directory: c:\\users\\dell\\appdata\\local\\pip\\cache\\wheels\\96\\8b\\f5\\9380082664c2b4b5c193675629393a822974623e5d9ddbb0b7\n",
      "Successfully built peewee\n",
      "Installing collected packages: peewee, multitasking, requests, html5lib, frozendict, yfinance\n",
      "  Attempting uninstall: requests\n",
      "    Found existing installation: requests 2.28.1\n",
      "    Uninstalling requests-2.28.1:\n",
      "      Successfully uninstalled requests-2.28.1\n",
      "Successfully installed frozendict-2.3.8 html5lib-1.1 multitasking-0.0.11 peewee-3.16.3 requests-2.31.0 yfinance-0.2.31\n",
      "Note: you may need to restart the kernel to use updated packages.\n"
     ]
    },
    {
     "name": "stderr",
     "output_type": "stream",
     "text": [
      "ERROR: pip's dependency resolver does not currently take into account all the packages that are installed. This behaviour is the source of the following dependency conflicts.\n",
      "conda-repo-cli 1.0.41 requires requests_mock, which is not installed.\n",
      "conda-repo-cli 1.0.41 requires clyent==1.2.1, but you have clyent 1.2.2 which is incompatible.\n",
      "conda-repo-cli 1.0.41 requires nbformat==5.4.0, but you have nbformat 5.7.0 which is incompatible.\n",
      "conda-repo-cli 1.0.41 requires requests==2.28.1, but you have requests 2.31.0 which is incompatible.\n"
     ]
    }
   ],
   "source": [
    "pip install yfinance\n"
   ]
  },
  {
   "cell_type": "code",
   "execution_count": 3,
   "id": "b8437106",
   "metadata": {},
   "outputs": [
    {
     "name": "stdout",
     "output_type": "stream",
     "text": [
      "[*********************100%%**********************]  1 of 1 completed\n",
      "                  Open        High         Low       Close   Adj Close  \\\n",
      "Date                                                                     \n",
      "2023-01-03  118.470001  118.800003  104.639999  108.099998  108.099998   \n",
      "2023-01-04  109.110001  114.589996  107.519997  113.639999  113.639999   \n",
      "2023-01-05  110.510002  111.750000  107.160004  110.339996  110.339996   \n",
      "2023-01-06  103.000000  114.389999  101.809998  113.059998  113.059998   \n",
      "2023-01-09  118.959999  123.519997  117.110001  119.769997  119.769997   \n",
      "\n",
      "               Volume  \n",
      "Date                   \n",
      "2023-01-03  231402800  \n",
      "2023-01-04  180389000  \n",
      "2023-01-05  157986300  \n",
      "2023-01-06  220911100  \n",
      "2023-01-09  190284000  \n"
     ]
    }
   ],
   "source": [
    "import yfinance as yf\n",
    "\n",
    "# Define the stock symbol (TSLA for Tesla)\n",
    "stock_symbol = \"TSLA\"\n",
    "\n",
    "# Set the date range for the stock data you want to retrieve\n",
    "start_date = \"2023-01-01\"\n",
    "end_date = \"2023-12-31\"\n",
    "\n",
    "# Use yfinance to fetch the stock data\n",
    "tesla_data = yf.download(stock_symbol, start=start_date, end=end_date)\n",
    "\n",
    "# Print the first few rows of the DataFrame\n",
    "print(tesla_data.head())\n"
   ]
  },
  {
   "cell_type": "code",
   "execution_count": 4,
   "id": "27bf7884",
   "metadata": {},
   "outputs": [
    {
     "name": "stdout",
     "output_type": "stream",
     "text": [
      "Failed to retrieve the web page.\n"
     ]
    }
   ],
   "source": [
    "import requests\n",
    "from bs4 import BeautifulSoup\n",
    "\n",
    "# Define the URL of the web page containing Tesla's revenue data\n",
    "url = \"https://example.com/tesla-revenue-page\"\n",
    "\n",
    "# Send an HTTP GET request to the URL\n",
    "response = requests.get(url)\n",
    "\n",
    "# Check if the request was successful\n",
    "if response.status_code == 200:\n",
    "    # Parse the HTML content of the page\n",
    "    soup = BeautifulSoup(response.text, \"html.parser\")\n",
    "\n",
    "    # Locate the HTML element containing the revenue data\n",
    "    revenue_element = soup.find(\"table\", {\"class\": \"revenue-table\"})  # Adjust the selector as needed\n",
    "\n",
    "    if revenue_element:\n",
    "        # Extract and print the revenue data\n",
    "        revenue_data = revenue_element.get_text()\n",
    "        print(revenue_data)\n",
    "    else:\n",
    "        print(\"Revenue data not found on the page.\")\n",
    "else:\n",
    "    print(\"Failed to retrieve the web page.\")\n"
   ]
  },
  {
   "cell_type": "code",
   "execution_count": 5,
   "id": "188cae09",
   "metadata": {},
   "outputs": [
    {
     "name": "stdout",
     "output_type": "stream",
     "text": [
      "[*********************100%%**********************]  1 of 1 completed\n",
      "                 Open       High        Low      Close  Adj Close   Volume\n",
      "Date                                                                      \n",
      "2023-01-03  18.639999  19.260000  17.090000  17.200001  17.200001  5135200\n",
      "2023-01-04  17.250000  17.930000  16.900000  17.320000  17.320000  3939300\n",
      "2023-01-05  17.059999  17.260000  15.890000  16.219999  16.219999  6066200\n",
      "2023-01-06  16.000000  16.570000  15.410000  16.459999  16.459999  4823400\n",
      "2023-01-09  16.650000  17.129999  16.360001  16.379999  16.379999  3522600\n"
     ]
    }
   ],
   "source": [
    "import yfinance as yf\n",
    "\n",
    "# Define the stock symbol (GME for GameStop)\n",
    "stock_symbol = \"GME\"\n",
    "\n",
    "# Set the date range for the stock data you want to retrieve\n",
    "start_date = \"2023-01-01\"\n",
    "end_date = \"2023-12-31\"\n",
    "\n",
    "# Use yfinance to fetch the stock data\n",
    "gamestop_data = yf.download(stock_symbol, start=start_date, end=end_date)\n",
    "\n",
    "# Print the first few rows of the DataFrame\n",
    "print(gamestop_data.head())\n"
   ]
  },
  {
   "cell_type": "code",
   "execution_count": 11,
   "id": "fa25fa37",
   "metadata": {},
   "outputs": [
    {
     "name": "stdout",
     "output_type": "stream",
     "text": [
      "Failed to retrieve the web page.\n"
     ]
    }
   ],
   "source": [
    "import requests\n",
    "from bs4 import BeautifulSoup\n",
    "\n",
    "# Define the URL of the web page containing Tesla's revenue data\n",
    "url = \"https://example.com/tesla-revenue-page\"\n",
    "\n",
    "# Send an HTTP GET request to the URL\n",
    "response = requests.get(url)\n",
    "\n",
    "# Check if the request was successful\n",
    "if response.status_code == 200:\n",
    "    # Parse the HTML content of the page\n",
    "    soup = BeautifulSoup(response.text, \"html.parser\")\n",
    "\n",
    "    # Locate the HTML element containing the revenue data\n",
    "    revenue_element = soup.find(\"table\", {\"class\": \"revenue-table\"})  # Adjust the selector as needed\n",
    "\n",
    "    if revenue_element:\n",
    "        # Extract and print the revenue data\n",
    "        revenue_data = revenue_element.get_text()\n",
    "        print(revenue_data)\n",
    "    else:\n",
    "        print(\"Revenue data not found on the page.\")\n",
    "else:\n",
    "    print(\"Failed to retrieve the web page.\")\n",
    "\n"
   ]
  },
  {
   "cell_type": "code",
   "execution_count": 8,
   "id": "a06fda5b",
   "metadata": {},
   "outputs": [
    {
     "name": "stdout",
     "output_type": "stream",
     "text": [
      "Requirement already satisfied: dash in c:\\users\\dell\\anaconda3\\lib\\site-packages (2.13.0)\n",
      "Requirement already satisfied: plotly in c:\\users\\dell\\anaconda3\\lib\\site-packages (5.9.0)\n",
      "Requirement already satisfied: pandas in c:\\users\\dell\\anaconda3\\lib\\site-packages (1.5.3)\n",
      "Requirement already satisfied: requests in c:\\users\\dell\\anaconda3\\lib\\site-packages (from dash) (2.31.0)\n",
      "Requirement already satisfied: dash-html-components==2.0.0 in c:\\users\\dell\\anaconda3\\lib\\site-packages (from dash) (2.0.0)\n",
      "Requirement already satisfied: dash-core-components==2.0.0 in c:\\users\\dell\\anaconda3\\lib\\site-packages (from dash) (2.0.0)\n",
      "Requirement already satisfied: dash-table==5.0.0 in c:\\users\\dell\\anaconda3\\lib\\site-packages (from dash) (5.0.0)\n",
      "Requirement already satisfied: ansi2html in c:\\users\\dell\\anaconda3\\lib\\site-packages (from dash) (1.8.0)\n",
      "Requirement already satisfied: typing-extensions>=4.1.1 in c:\\users\\dell\\anaconda3\\lib\\site-packages (from dash) (4.4.0)\n",
      "Requirement already satisfied: Werkzeug<2.3.0 in c:\\users\\dell\\anaconda3\\lib\\site-packages (from dash) (2.2.2)\n",
      "Requirement already satisfied: setuptools in c:\\users\\dell\\anaconda3\\lib\\site-packages (from dash) (65.6.3)\n",
      "Requirement already satisfied: Flask<2.3.0,>=1.0.4 in c:\\users\\dell\\anaconda3\\lib\\site-packages (from dash) (2.2.2)\n",
      "Requirement already satisfied: retrying in c:\\users\\dell\\anaconda3\\lib\\site-packages (from dash) (1.3.4)\n",
      "Requirement already satisfied: nest-asyncio in c:\\users\\dell\\anaconda3\\lib\\site-packages (from dash) (1.5.6)\n",
      "Requirement already satisfied: tenacity>=6.2.0 in c:\\users\\dell\\anaconda3\\lib\\site-packages (from plotly) (8.0.1)\n",
      "Requirement already satisfied: python-dateutil>=2.8.1 in c:\\users\\dell\\anaconda3\\lib\\site-packages (from pandas) (2.8.2)\n",
      "Requirement already satisfied: numpy>=1.21.0 in c:\\users\\dell\\anaconda3\\lib\\site-packages (from pandas) (1.23.5)\n",
      "Requirement already satisfied: pytz>=2020.1 in c:\\users\\dell\\anaconda3\\lib\\site-packages (from pandas) (2022.7)\n",
      "Requirement already satisfied: click>=8.0 in c:\\users\\dell\\anaconda3\\lib\\site-packages (from Flask<2.3.0,>=1.0.4->dash) (8.0.4)\n",
      "Requirement already satisfied: itsdangerous>=2.0 in c:\\users\\dell\\anaconda3\\lib\\site-packages (from Flask<2.3.0,>=1.0.4->dash) (2.0.1)\n",
      "Requirement already satisfied: Jinja2>=3.0 in c:\\users\\dell\\anaconda3\\lib\\site-packages (from Flask<2.3.0,>=1.0.4->dash) (3.1.2)\n",
      "Requirement already satisfied: six>=1.5 in c:\\users\\dell\\anaconda3\\lib\\site-packages (from python-dateutil>=2.8.1->pandas) (1.16.0)\n",
      "Requirement already satisfied: MarkupSafe>=2.1.1 in c:\\users\\dell\\anaconda3\\lib\\site-packages (from Werkzeug<2.3.0->dash) (2.1.1)\n",
      "Requirement already satisfied: certifi>=2017.4.17 in c:\\users\\dell\\anaconda3\\lib\\site-packages (from requests->dash) (2023.5.7)\n",
      "Requirement already satisfied: idna<4,>=2.5 in c:\\users\\dell\\anaconda3\\lib\\site-packages (from requests->dash) (3.4)\n",
      "Requirement already satisfied: urllib3<3,>=1.21.1 in c:\\users\\dell\\anaconda3\\lib\\site-packages (from requests->dash) (1.26.14)\n",
      "Requirement already satisfied: charset-normalizer<4,>=2 in c:\\users\\dell\\anaconda3\\lib\\site-packages (from requests->dash) (2.0.4)\n",
      "Requirement already satisfied: colorama in c:\\users\\dell\\anaconda3\\lib\\site-packages (from click>=8.0->Flask<2.3.0,>=1.0.4->dash) (0.4.6)\n",
      "Note: you may need to restart the kernel to use updated packages.\n"
     ]
    }
   ],
   "source": [
    "pip install dash plotly pandas\n"
   ]
  },
  {
   "cell_type": "code",
   "execution_count": 9,
   "id": "90845971",
   "metadata": {},
   "outputs": [
    {
     "name": "stderr",
     "output_type": "stream",
     "text": [
      "C:\\Users\\DELL\\AppData\\Local\\Temp\\ipykernel_11876\\1759731174.py:2: UserWarning: \n",
      "The dash_core_components package is deprecated. Please replace\n",
      "`import dash_core_components as dcc` with `from dash import dcc`\n",
      "  import dash_core_components as dcc\n",
      "C:\\Users\\DELL\\AppData\\Local\\Temp\\ipykernel_11876\\1759731174.py:3: UserWarning: \n",
      "The dash_html_components package is deprecated. Please replace\n",
      "`import dash_html_components as html` with `from dash import html`\n",
      "  import dash_html_components as html\n"
     ]
    },
    {
     "data": {
      "text/html": [
       "\n",
       "        <iframe\n",
       "            width=\"100%\"\n",
       "            height=\"650\"\n",
       "            src=\"http://127.0.0.1:8050/\"\n",
       "            frameborder=\"0\"\n",
       "            allowfullscreen\n",
       "            \n",
       "        ></iframe>\n",
       "        "
      ],
      "text/plain": [
       "<IPython.lib.display.IFrame at 0x21b9b7d2890>"
      ]
     },
     "metadata": {},
     "output_type": "display_data"
    }
   ],
   "source": [
    "import dash\n",
    "import dash_core_components as dcc\n",
    "import dash_html_components as html\n",
    "from dash.dependencies import Input, Output\n",
    "import pandas as pd\n",
    "\n",
    "# Your code for loading stock and revenue data here\n",
    "\n",
    "# Create a Dash web application\n",
    "app = dash.Dash(__name__)\n",
    "\n",
    "# Define the layout of your dashboard\n",
    "app.layout = html.Div([\n",
    "    html.H1(\"Tesla Stock and Revenue Dashboard\"),\n",
    "    \n",
    "    # Add components for displaying stock data (e.g., a Plotly chart)\n",
    "    dcc.Graph(id='stock-graph'),\n",
    "\n",
    "    # Add components for displaying revenue data (e.g., a table)\n",
    "    html.Table(id='revenue-table'),\n",
    "\n",
    "    # Add interactive elements, if desired (e.g., date range picker)\n",
    "])\n",
    "\n",
    "# Define callback functions to update the components based on user interactions or data changes\n",
    "@app.callback(\n",
    "    Output('stock-graph', 'figure'),\n",
    "    [Input('your-input-component', 'value')]  # Add your input components here\n",
    ")\n",
    "def update_stock_chart(selected_value):\n",
    "    # Your code for updating the stock chart here\n",
    "    return updated_figure\n",
    "\n",
    "@app.callback(\n",
    "    Output('revenue-table', 'children'),\n",
    "    [Input('your-input-component', 'value')]  # Add your input components here\n",
    ")\n",
    "def update_revenue_table(selected_value):\n",
    "    # Your code for updating the revenue table here\n",
    "    return updated_table\n",
    "\n",
    "# Run the application\n",
    "if __name__ == '__main__':\n",
    "    app.run_server(debug=True)\n"
   ]
  },
  {
   "cell_type": "code",
   "execution_count": 12,
   "id": "e5127ec5",
   "metadata": {},
   "outputs": [
    {
     "data": {
      "text/html": [
       "\n",
       "        <iframe\n",
       "            width=\"100%\"\n",
       "            height=\"650\"\n",
       "            src=\"http://127.0.0.1:8050/\"\n",
       "            frameborder=\"0\"\n",
       "            allowfullscreen\n",
       "            \n",
       "        ></iframe>\n",
       "        "
      ],
      "text/plain": [
       "<IPython.lib.display.IFrame at 0x21b9b885690>"
      ]
     },
     "metadata": {},
     "output_type": "display_data"
    }
   ],
   "source": [
    "import dash\n",
    "import dash_core_components as dcc\n",
    "import dash_html_components as html\n",
    "from dash.dependencies import Input, Output\n",
    "import pandas as pd\n",
    "\n",
    "# Your code for loading stock and revenue data here\n",
    "\n",
    "# Create a Dash web application\n",
    "app = dash.Dash(__name__)\n",
    "\n",
    "# Define the layout of your dashboard\n",
    "app.layout = html.Div([\n",
    "    html.H1(\"GameStop Stock and Revenue Dashboard\"),\n",
    "\n",
    "    # Add components for displaying stock data (e.g., a Plotly chart)\n",
    "    dcc.Graph(id='stock-graph'),\n",
    "\n",
    "    # Add components for displaying revenue data (e.g., a table)\n",
    "    html.Table(id='revenue-table'),\n",
    "\n",
    "    # Add interactive elements, if desired (e.g., date range picker)\n",
    "])\n",
    "\n",
    "# Define callback functions to update the components based on user interactions or data changes\n",
    "@app.callback(\n",
    "    Output('stock-graph', 'figure'),\n",
    "    [Input('your-input-component', 'value')]  # Add your input components here\n",
    ")\n",
    "def update_stock_chart(selected_value):\n",
    "    # Your code for updating the stock chart here\n",
    "    return updated_figure\n",
    "\n",
    "@app.callback(\n",
    "    Output('revenue-table', 'children'),\n",
    "    [Input('your-input-component', 'value')]  # Add your input components here\n",
    ")\n",
    "def update_revenue_table(selected_value):\n",
    "    # Your code for updating the revenue table here\n",
    "    return updated_table\n",
    "\n",
    "# Run the application\n",
    "if __name__ == '__main__':\n",
    "    app.run_server(debug=True)\n"
   ]
  },
  {
   "cell_type": "code",
   "execution_count": 21,
   "id": "8341c18f",
   "metadata": {},
   "outputs": [
    {
     "name": "stdout",
     "output_type": "stream",
     "text": [
      "[*********************100%%**********************]  1 of 1 completed\n",
      "                 Open       High        Low      Close  Adj Close     Volume\n",
      "Date                                                                        \n",
      "2020-01-02  28.299999  28.713333  28.114000  28.684000  28.684000  142981500\n",
      "2020-01-03  29.366667  30.266666  29.128000  29.534000  29.534000  266677500\n",
      "2020-01-06  29.364668  30.104000  29.333332  30.102667  30.102667  151995000\n",
      "2020-01-07  30.760000  31.441999  30.224001  31.270666  31.270666  268231500\n",
      "2020-01-08  31.580000  33.232666  31.215334  32.809334  32.809334  467164500\n"
     ]
    },
    {
     "data": {
      "text/html": [
       "\n",
       "        <iframe\n",
       "            width=\"100%\"\n",
       "            height=\"650\"\n",
       "            src=\"http://127.0.0.1:8050/\"\n",
       "            frameborder=\"0\"\n",
       "            allowfullscreen\n",
       "            \n",
       "        ></iframe>\n",
       "        "
      ],
      "text/plain": [
       "<IPython.lib.display.IFrame at 0x21b9cb18820>"
      ]
     },
     "metadata": {},
     "output_type": "display_data"
    }
   ],
   "source": [
    "import yfinance as yf\n",
    "import pandas as pd\n",
    "\n",
    "# Define the stock symbol and date range\n",
    "stock_symbol = \"TSLA\"\n",
    "start_date = \"2020-01-01\"\n",
    "end_date = \"2023-01-01\"\n",
    "\n",
    "# Fetch the stock data\n",
    "df_stock = yf.download(stock_symbol, start=start_date, end=end_date)\n",
    "\n",
    "# Print the first few rows of stock data\n",
    "print(df_stock.head())\n",
    "import plotly.express as px\n",
    "\n",
    "# Create a line chart for stock price\n",
    "fig_stock = px.line(df_stock, x=df_stock.index, y='Close', title='Tesla Stock Price')\n",
    "\n",
    "# Create a bar chart for revenue data (replace 'df_revenue' with your data)\n",
    "# fig_revenue = px.bar(df_revenue, x='Year', y='Revenue', title='Tesla Revenue Data')\n",
    "\n",
    "import dash\n",
    "import dash_core_components as dcc\n",
    "import dash_html_components as html\n",
    "\n",
    "app = dash.Dash(__name__)\n",
    "\n",
    "app.layout = html.Div([\n",
    "    html.H1(\"Tesla Stock and Revenue Dashboard\"),\n",
    "    dcc.Graph(figure=fig_stock),\n",
    "    # dcc.Graph(figure=fig_revenue),  # Uncomment this line if you have revenue data\n",
    "])\n",
    "\n",
    "if __name__ == '__main__':\n",
    "    app.run_server(debug=True)\n",
    "\n"
   ]
  },
  {
   "cell_type": "code",
   "execution_count": 22,
   "id": "dea88751",
   "metadata": {},
   "outputs": [
    {
     "name": "stdout",
     "output_type": "stream",
     "text": [
      "Requirement already satisfied: pandas in c:\\users\\dell\\anaconda3\\lib\\site-packages (1.5.3)\n",
      "Requirement already satisfied: plotly in c:\\users\\dell\\anaconda3\\lib\\site-packages (5.9.0)\n",
      "Requirement already satisfied: yfinance in c:\\users\\dell\\anaconda3\\lib\\site-packages (0.2.31)\n",
      "Requirement already satisfied: requests in c:\\users\\dell\\anaconda3\\lib\\site-packages (2.31.0)\n",
      "Requirement already satisfied: python-dateutil>=2.8.1 in c:\\users\\dell\\anaconda3\\lib\\site-packages (from pandas) (2.8.2)\n",
      "Requirement already satisfied: pytz>=2020.1 in c:\\users\\dell\\anaconda3\\lib\\site-packages (from pandas) (2022.7)\n",
      "Requirement already satisfied: numpy>=1.21.0 in c:\\users\\dell\\anaconda3\\lib\\site-packages (from pandas) (1.23.5)\n",
      "Requirement already satisfied: tenacity>=6.2.0 in c:\\users\\dell\\anaconda3\\lib\\site-packages (from plotly) (8.0.1)\n",
      "Requirement already satisfied: multitasking>=0.0.7 in c:\\users\\dell\\anaconda3\\lib\\site-packages (from yfinance) (0.0.11)\n",
      "Requirement already satisfied: html5lib>=1.1 in c:\\users\\dell\\anaconda3\\lib\\site-packages (from yfinance) (1.1)\n",
      "Requirement already satisfied: peewee>=3.16.2 in c:\\users\\dell\\anaconda3\\lib\\site-packages (from yfinance) (3.16.3)\n",
      "Requirement already satisfied: beautifulsoup4>=4.11.1 in c:\\users\\dell\\anaconda3\\lib\\site-packages (from yfinance) (4.11.1)\n",
      "Requirement already satisfied: appdirs>=1.4.4 in c:\\users\\dell\\anaconda3\\lib\\site-packages (from yfinance) (1.4.4)\n",
      "Requirement already satisfied: frozendict>=2.3.4 in c:\\users\\dell\\anaconda3\\lib\\site-packages (from yfinance) (2.3.8)\n",
      "Requirement already satisfied: lxml>=4.9.1 in c:\\users\\dell\\anaconda3\\lib\\site-packages (from yfinance) (4.9.1)\n",
      "Requirement already satisfied: idna<4,>=2.5 in c:\\users\\dell\\anaconda3\\lib\\site-packages (from requests) (3.4)\n",
      "Requirement already satisfied: urllib3<3,>=1.21.1 in c:\\users\\dell\\anaconda3\\lib\\site-packages (from requests) (1.26.14)\n",
      "Requirement already satisfied: certifi>=2017.4.17 in c:\\users\\dell\\anaconda3\\lib\\site-packages (from requests) (2023.5.7)\n",
      "Requirement already satisfied: charset-normalizer<4,>=2 in c:\\users\\dell\\anaconda3\\lib\\site-packages (from requests) (2.0.4)\n",
      "Requirement already satisfied: soupsieve>1.2 in c:\\users\\dell\\anaconda3\\lib\\site-packages (from beautifulsoup4>=4.11.1->yfinance) (2.3.2.post1)\n",
      "Requirement already satisfied: six>=1.9 in c:\\users\\dell\\anaconda3\\lib\\site-packages (from html5lib>=1.1->yfinance) (1.16.0)\n",
      "Requirement already satisfied: webencodings in c:\\users\\dell\\anaconda3\\lib\\site-packages (from html5lib>=1.1->yfinance) (0.5.1)\n",
      "Note: you may need to restart the kernel to use updated packages.\n"
     ]
    }
   ],
   "source": [
    "pip install pandas plotly yfinance requests\n"
   ]
  },
  {
   "cell_type": "code",
   "execution_count": 25,
   "id": "c00b0dc8",
   "metadata": {},
   "outputs": [
    {
     "name": "stdout",
     "output_type": "stream",
     "text": [
      "[*********************100%%**********************]  1 of 1 completed\n",
      "              Open    High     Low   Close  Adj Close    Volume\n",
      "Date                                                           \n",
      "2020-01-02  1.5350  1.6175  1.5175  1.5775     1.5775  17814400\n",
      "2020-01-03  1.5525  1.5625  1.4600  1.4700     1.4700  14175600\n",
      "2020-01-06  1.4500  1.4775  1.4000  1.4625     1.4625  13579200\n",
      "2020-01-07  1.4425  1.4575  1.3600  1.3800     1.3800  20912000\n",
      "2020-01-08  1.3725  1.4625  1.3525  1.4300     1.4300  22517600\n"
     ]
    },
    {
     "data": {
      "text/html": [
       "\n",
       "        <iframe\n",
       "            width=\"100%\"\n",
       "            height=\"650\"\n",
       "            src=\"http://127.0.0.1:8050/\"\n",
       "            frameborder=\"0\"\n",
       "            allowfullscreen\n",
       "            \n",
       "        ></iframe>\n",
       "        "
      ],
      "text/plain": [
       "<IPython.lib.display.IFrame at 0x21b9cbf61a0>"
      ]
     },
     "metadata": {},
     "output_type": "display_data"
    }
   ],
   "source": [
    "import yfinance as yf\n",
    "import pandas as pd\n",
    "\n",
    "# Define the stock symbol and date range\n",
    "stock_symbol = \"GME\"\n",
    "start_date = \"2020-01-01\"\n",
    "end_date = \"2023-01-01\"\n",
    "\n",
    "# Fetch the stock data\n",
    "df_stock = yf.download(stock_symbol, start=start_date, end=end_date)\n",
    "\n",
    "# Print the first few rows of stock data\n",
    "print(df_stock.head())\n",
    "import plotly.express as px\n",
    "\n",
    "# Create a line chart for stock price\n",
    "fig_stock = px.line(df_stock, x=df_stock.index, y='Close', title='GameStop Stock Price')\n",
    "\n",
    "# Create a bar chart for revenue data (replace 'df_revenue' with your data)\n",
    "# fig_revenue = px.bar(df_revenue, x='Year', y='Revenue', title='GameStop Revenue Data')\n",
    "\n",
    "import dash\n",
    "import dash_core_components as dcc\n",
    "import dash_html_components as html\n",
    "\n",
    "app = dash.Dash(__name__)\n",
    "\n",
    "app.layout = html.Div([\n",
    "    html.H1(\"GameStop Stock and Revenue Dashboard\"),\n",
    "    dcc.Graph(figure=fig_stock),\n",
    "    # dcc.Graph(figure=fig_revenue),  # Uncomment this line if you have revenue data\n",
    "])\n",
    "\n",
    "if __name__ == '__main__':\n",
    "    app.run_server(debug=True)\n"
   ]
  },
  {
   "cell_type": "code",
   "execution_count": null,
   "id": "47bd9b83",
   "metadata": {},
   "outputs": [],
   "source": []
  }
 ],
 "metadata": {
  "kernelspec": {
   "display_name": "Python 3 (ipykernel)",
   "language": "python",
   "name": "python3"
  },
  "language_info": {
   "codemirror_mode": {
    "name": "ipython",
    "version": 3
   },
   "file_extension": ".py",
   "mimetype": "text/x-python",
   "name": "python",
   "nbconvert_exporter": "python",
   "pygments_lexer": "ipython3",
   "version": "3.10.9"
  }
 },
 "nbformat": 4,
 "nbformat_minor": 5
}
